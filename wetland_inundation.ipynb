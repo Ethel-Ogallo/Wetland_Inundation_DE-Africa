{
 "cells": [
  {
   "cell_type": "markdown",
   "id": "30ab3a64-d3af-47af-b198-05e51acc0e52",
   "metadata": {},
   "source": [
    "## Monitoring wetland changes and their impact of malaria transmisson in the Zambezi Delta, Mozambique"
   ]
  },
  {
   "cell_type": "code",
   "execution_count": null,
   "id": "83dee5ff-91ee-4d58-b7f8-1abb4ff20bb5",
   "metadata": {},
   "outputs": [],
   "source": [
    "#load packages\n",
    "import os\n",
    "os.environ['USE_PYGEOS'] = '0'\n",
    "\n",
    "import datacube\n",
    "import numpy as np\n",
    "import xarray as xr\n",
    "import seaborn as sns\n",
    "import geopandas as gpd\n",
    "import matplotlib.pyplot as plt\n",
    "from IPython.display import Image\n",
    "from matplotlib.colors import ListedColormap\n",
    "from matplotlib.patches import Patch\n",
    "\n",
    "from deafrica_tools.bandindices import calculate_indices\n",
    "from deafrica_tools.plotting import map_shapefile, xr_animation\n",
    "from deafrica_tools.dask import create_local_dask_cluster\n",
    "from deafrica_tools.spatial import xr_rasterize"
   ]
  },
  {
   "cell_type": "code",
   "execution_count": null,
   "id": "e63e5583-ad52-45d4-94d8-8307734bbd8c",
   "metadata": {},
   "outputs": [],
   "source": [
    "#set up dask cluster\n",
    "#Dask can be used to better manage memory use and conduct the analysis in parallel\n",
    "create_local_dask_cluster()"
   ]
  },
  {
   "cell_type": "code",
   "execution_count": null,
   "id": "571a8bff-6714-4386-a334-a0f52ab7770b",
   "metadata": {},
   "outputs": [],
   "source": [
    "#connetc to datacube\n",
    "dc = datacube.Datacube(app='water_extent')"
   ]
  }
 ],
 "metadata": {
  "kernelspec": {
   "display_name": "Python 3 (ipykernel)",
   "language": "python",
   "name": "python3"
  },
  "language_info": {
   "codemirror_mode": {
    "name": "ipython",
    "version": 3
   },
   "file_extension": ".py",
   "mimetype": "text/x-python",
   "name": "python",
   "nbconvert_exporter": "python",
   "pygments_lexer": "ipython3",
   "version": "3.12.3"
  }
 },
 "nbformat": 4,
 "nbformat_minor": 5
}
