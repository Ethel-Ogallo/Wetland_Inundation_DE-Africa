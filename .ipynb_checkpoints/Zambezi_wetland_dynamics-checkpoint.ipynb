{
 "cells": [
  {
   "cell_type": "markdown",
   "id": "e3fab147-72c5-446b-bccd-090446293b61",
   "metadata": {},
   "source": [
    "### Monitoring wetland dynamics and its impact on malaria in the Zambesi delta, Mozambique"
   ]
  },
  {
   "cell_type": "markdown",
   "id": "48b5ab8a-6744-4f36-bce2-54ce5c0eab94",
   "metadata": {},
   "source": [
    "#### Context\n",
    "What are wetlands?, why important?  \n",
    "Why monitor?  \n",
    "Relationship to malaria? Why it matters?  "
   ]
  },
  {
   "cell_type": "markdown",
   "id": "12fbb054-d883-4294-9dc7-9f27469c3a63",
   "metadata": {},
   "source": [
    "### Method Description\n",
    "1. Tasselled-Cap Wetnees (TCW) from surface reflectance\n",
    "2. Fractional Cover\n",
    "3. Masking using WOfS and TCW\n",
    "4. Stacking and classifying the dominant land type\n",
    "5. Comparison to malaria incidence rate "
   ]
  },
  {
   "cell_type": "markdown",
   "id": "6fd379d0-4115-4fe1-b1aa-aee1b52c85c0",
   "metadata": {},
   "source": [
    "#### 1. Tasseled-Cap Wetness(TCW) computaion from surface reflectance\n",
    "TCW is one of the Tasseled-Cap Transform (TCT) indices, which uses a linear combination of Landsat bands to detect moisture content in soil and vegetation. The equations vary by Landsat sensor:\n",
    "\n",
    "Landsat 5 & 7 (TM) Coefficients  \n",
    "TCW=0.1509B1+0.1973B2+0.3279B3+0.3406B4−0.7112B5−0.4572B7  \n",
    "Landsat 7 (ETM+) Coefficients  \n",
    "TCW=0.2626B1+0.2141B2+0.0926B3+0.0656B4−0.7629B5−0.5388B7  \n",
    "Landsat 8 & 9 (OLI) Coefficients  \n",
    "TCW=0.1511𝐵2+0.1973𝐵3+0.3283𝐵4+0.3407𝐵5−0.7117𝐵6−0.4559𝐵7  \n",
    "TCW=0.1511B2+0.1973B3+0.3283B4+0.3407B5−0.7117B6−0.4559B7  \n",
    "\n",
    "B1, B2, etc., are Landsat bands (Surface Reflectance)\n",
    "\n",
    "TCW is sensitive to water content in soil and vegetation\n",
    "\n",
    "Higher TCW means more moisture, lower TCW means drier surfaces"
   ]
  },
  {
   "cell_type": "code",
   "execution_count": 1,
   "id": "d35aa192-ddbf-4eab-a1dc-e3bcab2e4e28",
   "metadata": {},
   "outputs": [],
   "source": [
    "import datacube\n",
    "import xarray as xr\n",
    "import numpy as np\n",
    "import matplotlib.pyplot as plt\n",
    "import geopandas as gpd\n",
    "import seaborn as sns\n",
    "from mpl_toolkits.axes_grid1.inset_locator import inset_axes\n",
    "from skimage import exposure\n",
    "from shapely.geometry import Polygon\n",
    "\n",
    "from deafrica_tools.datahandling import load_ard, mostcommon_crs, wofs_fuser\n",
    "from deafrica_tools.plotting import rgb, display_map, plot_wofs\n",
    "from datacube.utils import masking, geometry\n",
    "from datacube.utils.geometry import CRS\n",
    "from deafrica_tools.bandindices import calculate_indices\n",
    "from deafrica_tools.classification import HiddenPrints\n",
    "from deafrica_tools.spatial import xr_rasterize\n",
    "from deafrica_tools.classification import HiddenPrints"
   ]
  },
  {
   "cell_type": "code",
   "execution_count": 2,
   "id": "b20a9705-dc1c-4f16-a7c0-5e137c76dd62",
   "metadata": {},
   "outputs": [],
   "source": [
    "#connect to datacube\n",
    "dc = datacube.Datacube(app=\"Landsat_Surface_Reflectance\")"
   ]
  },
  {
   "cell_type": "code",
   "execution_count": 3,
   "id": "bddea90a-4aee-4824-897e-2e0af5f373fe",
   "metadata": {},
   "outputs": [
    {
     "data": {
      "text/html": [
       "<div>\n",
       "<style scoped>\n",
       "    .dataframe tbody tr th:only-of-type {\n",
       "        vertical-align: middle;\n",
       "    }\n",
       "\n",
       "    .dataframe tbody tr th {\n",
       "        vertical-align: top;\n",
       "    }\n",
       "\n",
       "    .dataframe thead th {\n",
       "        text-align: right;\n",
       "    }\n",
       "</style>\n",
       "<table border=\"1\" class=\"dataframe\">\n",
       "  <thead>\n",
       "    <tr style=\"text-align: right;\">\n",
       "      <th></th>\n",
       "      <th>description</th>\n",
       "    </tr>\n",
       "    <tr>\n",
       "      <th>name</th>\n",
       "      <th></th>\n",
       "    </tr>\n",
       "  </thead>\n",
       "  <tbody>\n",
       "    <tr>\n",
       "      <th>dem_srtm</th>\n",
       "      <td>1 second elevation model</td>\n",
       "    </tr>\n",
       "    <tr>\n",
       "      <th>dem_srtm_deriv</th>\n",
       "      <td>1 second elevation model derivatives</td>\n",
       "    </tr>\n",
       "    <tr>\n",
       "      <th>ls5_sr</th>\n",
       "      <td>USGS Landsat 5 Collection 2 Level-2 Surface Re...</td>\n",
       "    </tr>\n",
       "    <tr>\n",
       "      <th>ls7_sr</th>\n",
       "      <td>USGS Landsat 7 Collection 2 Level-2 Surface Re...</td>\n",
       "    </tr>\n",
       "    <tr>\n",
       "      <th>ls8_sr</th>\n",
       "      <td>USGS Landsat 8 Collection 2 Level-2 Surface Re...</td>\n",
       "    </tr>\n",
       "    <tr>\n",
       "      <th>ls9_sr</th>\n",
       "      <td>USGS Landsat 9 Collection 2 Level-2 Surface Re...</td>\n",
       "    </tr>\n",
       "  </tbody>\n",
       "</table>\n",
       "</div>"
      ],
      "text/plain": [
       "                                                      description\n",
       "name                                                             \n",
       "dem_srtm                                 1 second elevation model\n",
       "dem_srtm_deriv               1 second elevation model derivatives\n",
       "ls5_sr          USGS Landsat 5 Collection 2 Level-2 Surface Re...\n",
       "ls7_sr          USGS Landsat 7 Collection 2 Level-2 Surface Re...\n",
       "ls8_sr          USGS Landsat 8 Collection 2 Level-2 Surface Re...\n",
       "ls9_sr          USGS Landsat 9 Collection 2 Level-2 Surface Re..."
      ]
     },
     "execution_count": 3,
     "metadata": {},
     "output_type": "execute_result"
    }
   ],
   "source": [
    "# List Landsat products available in DE Africa\n",
    "dc_products = dc.list_products()\n",
    "display_columns = ['name', 'description']\n",
    "dc_products[dc_products.name.str.contains(\n",
    "    'sr').fillna(\n",
    "        False)][display_columns].set_index('name')"
   ]
  },
  {
   "cell_type": "code",
   "execution_count": 4,
   "id": "c5d53341-72df-46e8-893a-b74efd718c4c",
   "metadata": {
    "scrolled": true
   },
   "outputs": [
    {
     "name": "stdout",
     "output_type": "stream",
     "text": [
      "Measurements for ls8_sr:\n"
     ]
    },
    {
     "data": {
      "text/html": [
       "<div>\n",
       "<style scoped>\n",
       "    .dataframe tbody tr th:only-of-type {\n",
       "        vertical-align: middle;\n",
       "    }\n",
       "\n",
       "    .dataframe tbody tr th {\n",
       "        vertical-align: top;\n",
       "    }\n",
       "\n",
       "    .dataframe thead th {\n",
       "        text-align: right;\n",
       "    }\n",
       "</style>\n",
       "<table border=\"1\" class=\"dataframe\">\n",
       "  <thead>\n",
       "    <tr style=\"text-align: right;\">\n",
       "      <th></th>\n",
       "      <th>name</th>\n",
       "      <th>dtype</th>\n",
       "      <th>units</th>\n",
       "      <th>nodata</th>\n",
       "      <th>aliases</th>\n",
       "      <th>flags_definition</th>\n",
       "      <th>add_offset</th>\n",
       "      <th>scale_factor</th>\n",
       "    </tr>\n",
       "    <tr>\n",
       "      <th>measurement</th>\n",
       "      <th></th>\n",
       "      <th></th>\n",
       "      <th></th>\n",
       "      <th></th>\n",
       "      <th></th>\n",
       "      <th></th>\n",
       "      <th></th>\n",
       "      <th></th>\n",
       "    </tr>\n",
       "  </thead>\n",
       "  <tbody>\n",
       "    <tr>\n",
       "      <th>SR_B1</th>\n",
       "      <td>SR_B1</td>\n",
       "      <td>uint16</td>\n",
       "      <td>1</td>\n",
       "      <td>0.0</td>\n",
       "      <td>[band_1, coastal_aerosol]</td>\n",
       "      <td>NaN</td>\n",
       "      <td>NaN</td>\n",
       "      <td>NaN</td>\n",
       "    </tr>\n",
       "    <tr>\n",
       "      <th>SR_B2</th>\n",
       "      <td>SR_B2</td>\n",
       "      <td>uint16</td>\n",
       "      <td>1</td>\n",
       "      <td>0.0</td>\n",
       "      <td>[band_2, blue]</td>\n",
       "      <td>NaN</td>\n",
       "      <td>NaN</td>\n",
       "      <td>NaN</td>\n",
       "    </tr>\n",
       "    <tr>\n",
       "      <th>SR_B3</th>\n",
       "      <td>SR_B3</td>\n",
       "      <td>uint16</td>\n",
       "      <td>1</td>\n",
       "      <td>0.0</td>\n",
       "      <td>[band_3, green]</td>\n",
       "      <td>NaN</td>\n",
       "      <td>NaN</td>\n",
       "      <td>NaN</td>\n",
       "    </tr>\n",
       "    <tr>\n",
       "      <th>SR_B4</th>\n",
       "      <td>SR_B4</td>\n",
       "      <td>uint16</td>\n",
       "      <td>1</td>\n",
       "      <td>0.0</td>\n",
       "      <td>[band_4, red]</td>\n",
       "      <td>NaN</td>\n",
       "      <td>NaN</td>\n",
       "      <td>NaN</td>\n",
       "    </tr>\n",
       "    <tr>\n",
       "      <th>SR_B5</th>\n",
       "      <td>SR_B5</td>\n",
       "      <td>uint16</td>\n",
       "      <td>1</td>\n",
       "      <td>0.0</td>\n",
       "      <td>[band_5, nir]</td>\n",
       "      <td>NaN</td>\n",
       "      <td>NaN</td>\n",
       "      <td>NaN</td>\n",
       "    </tr>\n",
       "    <tr>\n",
       "      <th>SR_B6</th>\n",
       "      <td>SR_B6</td>\n",
       "      <td>uint16</td>\n",
       "      <td>1</td>\n",
       "      <td>0.0</td>\n",
       "      <td>[band_6, swir_1]</td>\n",
       "      <td>NaN</td>\n",
       "      <td>NaN</td>\n",
       "      <td>NaN</td>\n",
       "    </tr>\n",
       "    <tr>\n",
       "      <th>SR_B7</th>\n",
       "      <td>SR_B7</td>\n",
       "      <td>uint16</td>\n",
       "      <td>1</td>\n",
       "      <td>0.0</td>\n",
       "      <td>[band_7, swir_2]</td>\n",
       "      <td>NaN</td>\n",
       "      <td>NaN</td>\n",
       "      <td>NaN</td>\n",
       "    </tr>\n",
       "    <tr>\n",
       "      <th>QA_PIXEL</th>\n",
       "      <td>QA_PIXEL</td>\n",
       "      <td>uint16</td>\n",
       "      <td>bit_index</td>\n",
       "      <td>1.0</td>\n",
       "      <td>[pq, pixel_quality]</td>\n",
       "      <td>{'snow': {'bits': 5, 'values': {'0': 'not_high...</td>\n",
       "      <td>NaN</td>\n",
       "      <td>NaN</td>\n",
       "    </tr>\n",
       "    <tr>\n",
       "      <th>QA_RADSAT</th>\n",
       "      <td>QA_RADSAT</td>\n",
       "      <td>uint16</td>\n",
       "      <td>bit_index</td>\n",
       "      <td>0.0</td>\n",
       "      <td>[radsat, radiometric_saturation]</td>\n",
       "      <td>{'nir_saturation': {'bits': 4, 'values': {'0':...</td>\n",
       "      <td>NaN</td>\n",
       "      <td>NaN</td>\n",
       "    </tr>\n",
       "    <tr>\n",
       "      <th>SR_QA_AEROSOL</th>\n",
       "      <td>SR_QA_AEROSOL</td>\n",
       "      <td>uint8</td>\n",
       "      <td>bit_index</td>\n",
       "      <td>1.0</td>\n",
       "      <td>[qa_aerosol, aerosol_qa]</td>\n",
       "      <td>{'water': {'bits': 2, 'values': {'0': False, '...</td>\n",
       "      <td>NaN</td>\n",
       "      <td>NaN</td>\n",
       "    </tr>\n",
       "  </tbody>\n",
       "</table>\n",
       "</div>"
      ],
      "text/plain": [
       "                        name   dtype      units  nodata  \\\n",
       "measurement                                               \n",
       "SR_B1                  SR_B1  uint16          1     0.0   \n",
       "SR_B2                  SR_B2  uint16          1     0.0   \n",
       "SR_B3                  SR_B3  uint16          1     0.0   \n",
       "SR_B4                  SR_B4  uint16          1     0.0   \n",
       "SR_B5                  SR_B5  uint16          1     0.0   \n",
       "SR_B6                  SR_B6  uint16          1     0.0   \n",
       "SR_B7                  SR_B7  uint16          1     0.0   \n",
       "QA_PIXEL            QA_PIXEL  uint16  bit_index     1.0   \n",
       "QA_RADSAT          QA_RADSAT  uint16  bit_index     0.0   \n",
       "SR_QA_AEROSOL  SR_QA_AEROSOL   uint8  bit_index     1.0   \n",
       "\n",
       "                                        aliases  \\\n",
       "measurement                                       \n",
       "SR_B1                 [band_1, coastal_aerosol]   \n",
       "SR_B2                            [band_2, blue]   \n",
       "SR_B3                           [band_3, green]   \n",
       "SR_B4                             [band_4, red]   \n",
       "SR_B5                             [band_5, nir]   \n",
       "SR_B6                          [band_6, swir_1]   \n",
       "SR_B7                          [band_7, swir_2]   \n",
       "QA_PIXEL                    [pq, pixel_quality]   \n",
       "QA_RADSAT      [radsat, radiometric_saturation]   \n",
       "SR_QA_AEROSOL          [qa_aerosol, aerosol_qa]   \n",
       "\n",
       "                                                flags_definition  add_offset  \\\n",
       "measurement                                                                    \n",
       "SR_B1                                                        NaN         NaN   \n",
       "SR_B2                                                        NaN         NaN   \n",
       "SR_B3                                                        NaN         NaN   \n",
       "SR_B4                                                        NaN         NaN   \n",
       "SR_B5                                                        NaN         NaN   \n",
       "SR_B6                                                        NaN         NaN   \n",
       "SR_B7                                                        NaN         NaN   \n",
       "QA_PIXEL       {'snow': {'bits': 5, 'values': {'0': 'not_high...         NaN   \n",
       "QA_RADSAT      {'nir_saturation': {'bits': 4, 'values': {'0':...         NaN   \n",
       "SR_QA_AEROSOL  {'water': {'bits': 2, 'values': {'0': False, '...         NaN   \n",
       "\n",
       "               scale_factor  \n",
       "measurement                  \n",
       "SR_B1                   NaN  \n",
       "SR_B2                   NaN  \n",
       "SR_B3                   NaN  \n",
       "SR_B4                   NaN  \n",
       "SR_B5                   NaN  \n",
       "SR_B6                   NaN  \n",
       "SR_B7                   NaN  \n",
       "QA_PIXEL                NaN  \n",
       "QA_RADSAT               NaN  \n",
       "SR_QA_AEROSOL           NaN  "
      ]
     },
     "metadata": {},
     "output_type": "display_data"
    }
   ],
   "source": [
    "dc_measurements = dc.list_measurements()\n",
    "# Display available measurements for Landsat 8\n",
    "landsat_collections = [\"ls8_sr\"] \n",
    "for collection in landsat_collections:\n",
    "    collection in dc_measurements.index\n",
    "    print(f\"Measurements for {collection}:\")\n",
    "    display(dc_measurements.loc[collection])"
   ]
  },
  {
   "cell_type": "code",
   "execution_count": 5,
   "id": "7cfe1ada-17f1-4019-8f82-cf1f4864bea0",
   "metadata": {
    "scrolled": true
   },
   "outputs": [
    {
     "name": "stdout",
     "output_type": "stream",
     "text": [
      "(35.536, 35.89) (-18.15457, -17.80057)\n"
     ]
    },
    {
     "data": {
      "text/html": [
       "<div style=\"width:100%;\"><div style=\"position:relative;width:100%;height:0;padding-bottom:60%;\"><span style=\"color:#565656\">Make this Notebook Trusted to load map: File -> Trust Notebook</span><iframe srcdoc=\"&lt;!DOCTYPE html&gt;\n",
       "&lt;html&gt;\n",
       "&lt;head&gt;\n",
       "    \n",
       "    &lt;meta http-equiv=&quot;content-type&quot; content=&quot;text/html; charset=UTF-8&quot; /&gt;\n",
       "    \n",
       "        &lt;script&gt;\n",
       "            L_NO_TOUCH = false;\n",
       "            L_DISABLE_3D = false;\n",
       "        &lt;/script&gt;\n",
       "    \n",
       "    &lt;style&gt;html, body {width: 100%;height: 100%;margin: 0;padding: 0;}&lt;/style&gt;\n",
       "    &lt;style&gt;#map {position:absolute;top:0;bottom:0;right:0;left:0;}&lt;/style&gt;\n",
       "    &lt;script src=&quot;https://cdn.jsdelivr.net/npm/leaflet@1.9.3/dist/leaflet.js&quot;&gt;&lt;/script&gt;\n",
       "    &lt;script src=&quot;https://code.jquery.com/jquery-3.7.1.min.js&quot;&gt;&lt;/script&gt;\n",
       "    &lt;script src=&quot;https://cdn.jsdelivr.net/npm/bootstrap@5.2.2/dist/js/bootstrap.bundle.min.js&quot;&gt;&lt;/script&gt;\n",
       "    &lt;script src=&quot;https://cdnjs.cloudflare.com/ajax/libs/Leaflet.awesome-markers/2.0.2/leaflet.awesome-markers.js&quot;&gt;&lt;/script&gt;\n",
       "    &lt;link rel=&quot;stylesheet&quot; href=&quot;https://cdn.jsdelivr.net/npm/leaflet@1.9.3/dist/leaflet.css&quot;/&gt;\n",
       "    &lt;link rel=&quot;stylesheet&quot; href=&quot;https://cdn.jsdelivr.net/npm/bootstrap@5.2.2/dist/css/bootstrap.min.css&quot;/&gt;\n",
       "    &lt;link rel=&quot;stylesheet&quot; href=&quot;https://netdna.bootstrapcdn.com/bootstrap/3.0.0/css/bootstrap-glyphicons.css&quot;/&gt;\n",
       "    &lt;link rel=&quot;stylesheet&quot; href=&quot;https://cdn.jsdelivr.net/npm/@fortawesome/fontawesome-free@6.2.0/css/all.min.css&quot;/&gt;\n",
       "    &lt;link rel=&quot;stylesheet&quot; href=&quot;https://cdnjs.cloudflare.com/ajax/libs/Leaflet.awesome-markers/2.0.2/leaflet.awesome-markers.css&quot;/&gt;\n",
       "    &lt;link rel=&quot;stylesheet&quot; href=&quot;https://cdn.jsdelivr.net/gh/python-visualization/folium/folium/templates/leaflet.awesome.rotate.min.css&quot;/&gt;\n",
       "    \n",
       "            &lt;meta name=&quot;viewport&quot; content=&quot;width=device-width,\n",
       "                initial-scale=1.0, maximum-scale=1.0, user-scalable=no&quot; /&gt;\n",
       "            &lt;style&gt;\n",
       "                #map_1857a0ca87a1dd35ed5ae1140d048d56 {\n",
       "                    position: relative;\n",
       "                    width: 100.0%;\n",
       "                    height: 100.0%;\n",
       "                    left: 0.0%;\n",
       "                    top: 0.0%;\n",
       "                }\n",
       "                .leaflet-container { font-size: 1rem; }\n",
       "            &lt;/style&gt;\n",
       "        \n",
       "&lt;/head&gt;\n",
       "&lt;body&gt;\n",
       "    \n",
       "    \n",
       "            &lt;div class=&quot;folium-map&quot; id=&quot;map_1857a0ca87a1dd35ed5ae1140d048d56&quot; &gt;&lt;/div&gt;\n",
       "        \n",
       "&lt;/body&gt;\n",
       "&lt;script&gt;\n",
       "    \n",
       "    \n",
       "            var map_1857a0ca87a1dd35ed5ae1140d048d56 = L.map(\n",
       "                &quot;map_1857a0ca87a1dd35ed5ae1140d048d56&quot;,\n",
       "                {\n",
       "                    center: [-17.97757, 35.713],\n",
       "                    crs: L.CRS.EPSG3857,\n",
       "                    ...{\n",
       "  &quot;zoom&quot;: 10,\n",
       "  &quot;zoomControl&quot;: true,\n",
       "  &quot;preferCanvas&quot;: false,\n",
       "}\n",
       "\n",
       "                }\n",
       "            );\n",
       "\n",
       "            \n",
       "\n",
       "        \n",
       "    \n",
       "            var tile_layer_047aeb90e5d476b1d32a8a3bbbfe0a92 = L.tileLayer(\n",
       "                &quot;http://mt1.google.com/vt/lyrs=y\\u0026z={z}\\u0026x={x}\\u0026y={y}&quot;,\n",
       "                {\n",
       "  &quot;minZoom&quot;: 0,\n",
       "  &quot;maxZoom&quot;: 18,\n",
       "  &quot;maxNativeZoom&quot;: 18,\n",
       "  &quot;noWrap&quot;: false,\n",
       "  &quot;attribution&quot;: &quot;Google&quot;,\n",
       "  &quot;subdomains&quot;: &quot;abc&quot;,\n",
       "  &quot;detectRetina&quot;: false,\n",
       "  &quot;tms&quot;: false,\n",
       "  &quot;opacity&quot;: 1,\n",
       "}\n",
       "\n",
       "            );\n",
       "        \n",
       "    \n",
       "            tile_layer_047aeb90e5d476b1d32a8a3bbbfe0a92.addTo(map_1857a0ca87a1dd35ed5ae1140d048d56);\n",
       "        \n",
       "    \n",
       "            var poly_line_08a0468f27a9bdad2c8ef5cc2deccbf0 = L.polyline(\n",
       "                [[-18.15457, 35.536], [-18.15457, 35.89], [-17.80057, 35.89], [-17.80057, 35.536], [-18.15457, 35.536]],\n",
       "                {&quot;bubblingMouseEvents&quot;: true, &quot;color&quot;: &quot;red&quot;, &quot;dashArray&quot;: null, &quot;dashOffset&quot;: null, &quot;fill&quot;: false, &quot;fillColor&quot;: &quot;red&quot;, &quot;fillOpacity&quot;: 0.2, &quot;fillRule&quot;: &quot;evenodd&quot;, &quot;lineCap&quot;: &quot;round&quot;, &quot;lineJoin&quot;: &quot;round&quot;, &quot;noClip&quot;: false, &quot;opacity&quot;: 0.8, &quot;smoothFactor&quot;: 1.0, &quot;stroke&quot;: true, &quot;weight&quot;: 3}\n",
       "            ).addTo(map_1857a0ca87a1dd35ed5ae1140d048d56);\n",
       "        \n",
       "    \n",
       "                var lat_lng_popup_57cf5a1217d15d89151f37d0900cb45b = L.popup();\n",
       "                function latLngPop(e) {\n",
       "                    lat_lng_popup_57cf5a1217d15d89151f37d0900cb45b\n",
       "                        .setLatLng(e.latlng)\n",
       "                        .setContent(&quot;Latitude: &quot; + e.latlng.lat.toFixed(4) +\n",
       "                                    &quot;&lt;br&gt;Longitude: &quot; + e.latlng.lng.toFixed(4))\n",
       "                        .openOn(map_1857a0ca87a1dd35ed5ae1140d048d56);\n",
       "                    }\n",
       "                map_1857a0ca87a1dd35ed5ae1140d048d56.on(&#x27;click&#x27;, latLngPop);\n",
       "            \n",
       "&lt;/script&gt;\n",
       "&lt;/html&gt;\" style=\"position:absolute;width:100%;height:100%;left:0;top:0;border:none !important;\" allowfullscreen webkitallowfullscreen mozallowfullscreen></iframe></div></div>"
      ],
      "text/plain": [
       "<folium.folium.Map at 0x7f1340b63c50>"
      ]
     },
     "execution_count": 5,
     "metadata": {},
     "output_type": "execute_result"
    }
   ],
   "source": [
    "# Bounding box for Mopeia in Zambezi delta Mozambique\n",
    "lat, lon = -17.97757, 35.7130\n",
    "buffer = 0.177\n",
    "\n",
    "# Add lat, lon, buffer together to get bounding box\n",
    "x = (lon - buffer, lon + buffer)\n",
    "y = (lat - buffer, lat + buffer)\n",
    "\n",
    "print(x, y)\n",
    "\n",
    "# View the location \n",
    "display_map(x=x, y=y)"
   ]
  },
  {
   "cell_type": "code",
   "execution_count": 6,
   "id": "4c5f7970-166c-447f-958d-b38c2f12b27b",
   "metadata": {},
   "outputs": [],
   "source": [
    "# Define the function to create a query\n",
    "def create_query(location, year):\n",
    "    return {\n",
    "        'x': location[0],  # location is the Geometry object\n",
    "        'y': location[1],\n",
    "        'time': (f\"{year}-01-01\", f\"{year}-12-31\"),  # Time range format (YYYY-MM-DD)\n",
    "    }\n",
    "\n",
    "# Define the years to query\n",
    "years = [2017, 2020, 2023]\n",
    "location= (x,y)"
   ]
  },
  {
   "cell_type": "code",
   "execution_count": 7,
   "id": "c7e38063-200b-4d9a-8743-d8b15911722f",
   "metadata": {
    "scrolled": true
   },
   "outputs": [
    {
     "name": "stdout",
     "output_type": "stream",
     "text": [
      "Processing data for 2017...\n",
      "Using pixel quality parameters for USGS Collection 2\n",
      "Finding datasets\n",
      "    ls8_sr\n"
     ]
    },
    {
     "name": "stderr",
     "output_type": "stream",
     "text": [
      "/opt/venv/lib/python3.12/site-packages/deafrica_tools/datahandling.py:244: UserWarning: Setting 'min_gooddata' percentage to > 0.0 will cause dask arrays to compute when loading pixel-quality data to calculate 'good pixel' percentage. This can slow the return of your dataset.\n",
      "  warnings.warn(\n"
     ]
    },
    {
     "name": "stdout",
     "output_type": "stream",
     "text": [
      "Counting good quality pixels for each time step\n",
      "Filtering to 13 out of 42 time steps with at least 85.0% good quality pixels\n",
      "Applying morphological filters to pq mask (['opening', 3], ['dilation', 3])\n",
      "Applying pixel quality/cloud mask\n",
      "Re-scaling Landsat C2 data\n",
      "Returning 13 time steps as a dask array\n",
      "Processing data for 2020...\n",
      "Using pixel quality parameters for USGS Collection 2\n",
      "Finding datasets\n",
      "    ls8_sr\n",
      "Counting good quality pixels for each time step\n",
      "Filtering to 17 out of 43 time steps with at least 85.0% good quality pixels\n",
      "Applying morphological filters to pq mask (['opening', 3], ['dilation', 3])\n",
      "Applying pixel quality/cloud mask\n",
      "Re-scaling Landsat C2 data\n",
      "Returning 17 time steps as a dask array\n",
      "Processing data for 2023...\n",
      "Using pixel quality parameters for USGS Collection 2\n",
      "Finding datasets\n",
      "    ls8_sr\n",
      "Counting good quality pixels for each time step\n",
      "Filtering to 22 out of 46 time steps with at least 85.0% good quality pixels\n",
      "Applying morphological filters to pq mask (['opening', 3], ['dilation', 3])\n",
      "Applying pixel quality/cloud mask\n",
      "Re-scaling Landsat C2 data\n",
      "Returning 22 time steps as a dask array\n",
      "<xarray.Dataset> Size: 2GB\n",
      "Dimensions:      (time: 52, y: 1326, x: 1270)\n",
      "Coordinates:\n",
      "  * time         (time) datetime64[ns] 416B 2017-01-28T07:35:17.200061 ... 20...\n",
      "  * y            (y) float64 11kB -1.97e+06 -1.97e+06 ... -2.01e+06 -2.01e+06\n",
      "  * x            (x) float64 10kB 7.683e+05 7.683e+05 ... 8.064e+05 8.064e+05\n",
      "    spatial_ref  int32 4B 32636\n",
      "Data variables:\n",
      "    red          (time, y, x) float32 350MB dask.array<chunksize=(13, 250, 250), meta=np.ndarray>\n",
      "    green        (time, y, x) float32 350MB dask.array<chunksize=(13, 250, 250), meta=np.ndarray>\n",
      "    blue         (time, y, x) float32 350MB dask.array<chunksize=(13, 250, 250), meta=np.ndarray>\n",
      "    nir          (time, y, x) float32 350MB dask.array<chunksize=(13, 250, 250), meta=np.ndarray>\n",
      "    swir_1       (time, y, x) float32 350MB dask.array<chunksize=(13, 250, 250), meta=np.ndarray>\n",
      "    swir_2       (time, y, x) float32 350MB dask.array<chunksize=(13, 250, 250), meta=np.ndarray>\n",
      "Attributes:\n",
      "    crs:           epsg:32636\n",
      "    grid_mapping:  spatial_ref\n"
     ]
    }
   ],
   "source": [
    "# Load ARD Landsat data for the specified time range (2013-2022) every 3rd year\n",
    "# Initialize lists to store datasets for each product\n",
    "ds_landsat_list = []\n",
    "\n",
    "# Load products for each year (one by one, each product separately)\n",
    "for year in years:\n",
    "    print(f\"Processing data for {year}...\")\n",
    "    \n",
    "    # Define the query for the current year\n",
    "    query = create_query(location, year)\n",
    "    \n",
    "    ds_landsat = load_ard(\n",
    "        dc=dc,\n",
    "        products=[\"ls8_sr\"], \n",
    "        output_crs=\"epsg:32636\",\n",
    "        min_gooddata=0.85,\n",
    "        mask_filters=([\"opening\", 3], [\"dilation\", 3]),\n",
    "        measurements=[\"red\", \"green\", \"blue\", \"nir\", \"swir_1\", \"swir_2\"],\n",
    "        dask_chunks={'time': -1, 'x': 250, 'y': 250},  # Adjust chunking as needed\n",
    "        group_by=\"solar_day\",\n",
    "        resolution=(-30, 30),\n",
    "        **query\n",
    "    )\n",
    "    \n",
    "    # Append the dataset to the list\n",
    "    ds_landsat_list.append(ds_landsat)\n",
    "\n",
    "# Concatenate along the 'time' dimension\n",
    "ds_ls = xr.concat(ds_landsat_list, dim='time')\n",
    "\n",
    "# Sort by time just in case\n",
    "ds_ls = ds_ls.sortby('time')\n",
    "\n",
    "print(ds_ls)\n"
   ]
  },
  {
   "cell_type": "code",
   "execution_count": null,
   "id": "b26152fc-6fc1-40bf-aaf5-de89758ed8b5",
   "metadata": {},
   "outputs": [
    {
     "name": "stdout",
     "output_type": "stream",
     "text": [
      "<xarray.DataArray 'swir_1' (y: 1326, x: 1270)> Size: 7MB\n",
      "dask.array<getitem, shape=(1326, 1270), dtype=float32, chunksize=(250, 250), chunktype=numpy.ndarray>\n",
      "Coordinates:\n",
      "    time         datetime64[ns] 8B 2017-02-13T07:35:09.497636\n",
      "  * y            (y) float64 11kB -1.97e+06 -1.97e+06 ... -2.01e+06 -2.01e+06\n",
      "  * x            (x) float64 10kB 7.683e+05 7.683e+05 ... 8.064e+05 8.064e+05\n",
      "    spatial_ref  int32 4B 32636\n",
      "Attributes:\n",
      "    crs:           epsg:32636\n",
      "    grid_mapping:  spatial_ref\n"
     ]
    },
    {
     "data": {
      "text/plain": [
       "<matplotlib.collections.QuadMesh at 0x7f13142a34d0>"
      ]
     },
     "execution_count": 12,
     "metadata": {},
     "output_type": "execute_result"
    }
   ],
   "source": [
    "# Visual sanity check\n",
    "first_timestep = ds_ls.swir_1.isel(time=1)\n",
    "\n",
    "print(first_timestep)\n",
    "first_timestep.plot(cmap='Blues_r')"
   ]
  },
  {
   "cell_type": "code",
   "execution_count": 9,
   "id": "9500bb30-1041-4bb5-9223-2f46f0d1e157",
   "metadata": {},
   "outputs": [
    {
     "name": "stdout",
     "output_type": "stream",
     "text": [
      "   col1                                           geometry\n",
      "0  name  POLYGON ((35.536 -18.155, 35.536 -17.801, 35.8...\n",
      "calculating tasseled cap wetness index \n",
      "Resampling TCW to 1M\n"
     ]
    }
   ],
   "source": [
    "verbose = True\n",
    "resample_frequency = '1M'\n",
    "TCW_threshold = -0.035 #The tasseled cap wetness threshold, beyond which a pixel will be considered 'wet'. Defaults to -0.035\n",
    "\n",
    "# Create the Polygon representing the bounding box (Shapely format)\n",
    "bbox_coords = [(x[0], y[0]), (x[0], y[1]), (x[1], y[1]), (x[1], y[0]), (x[0], y[0])]\n",
    "bbox = Polygon(bbox_coords)\n",
    "\n",
    "# Create the GeoDataFrame using GeoPandas\n",
    "gdf = gpd.GeoDataFrame({\"col1\": [\"name\"]}, geometry=[bbox], crs=\"EPSG:32636\")\n",
    "\n",
    "# Check the GeoDataFrame (gdf)\n",
    "print(gdf)\n",
    "\n",
    "# # If gdf is of type datacube.utils.geometry._base.Geometry, convert it to GeoDataFrame\n",
    "# if isinstance(gdf, geometry._base.Geometry):\n",
    "#     gdf = gpd.GeoDataFrame({\"col1\": [\"name\"], \"geometry\": [gdf.geom]}, crs=gdf.crs)\n",
    "\n",
    "# # Convert the GeoDataFrame to a datacube Geometry object\n",
    "# geom = geometry.Geometry(geom=gdf.iloc[0].geometry, crs=gdf.crs)\n",
    "\n",
    "# create polygon mask\n",
    "mask = xr_rasterize(gdf.iloc[[0]], ds_ls)\n",
    "ds_ls = ds_ls.where(mask)\n",
    "\n",
    "# calculate tasselled cap wetness within masked AOI\n",
    "\n",
    "if verbose:\n",
    "    print(\"calculating tasseled cap wetness index \")\n",
    "\n",
    "with HiddenPrints():  # suppres the prints from this func\n",
    "    tcw = calculate_indices(\n",
    "        ds_ls, index=[\"TCW\"], normalise=False, satellite_mission=\"ls\", drop=True\n",
    "    )\n",
    "\n",
    "if resample_frequency is not None:\n",
    "    if verbose:\n",
    "        print(\"Resampling TCW to \" + resample_frequency)\n",
    "    tcw = tcw.resample(time=resample_frequency).max()\n",
    "\n",
    "tcw = tcw.TCW >= TCW_threshold\n",
    "tcw = tcw.where(mask, 0)\n",
    "tcw = tcw.persist()"
   ]
  },
  {
   "cell_type": "code",
   "execution_count": 10,
   "id": "af5f3e10-7f34-4a9a-9f7f-2d11b69a4ec4",
   "metadata": {},
   "outputs": [
    {
     "name": "stdout",
     "output_type": "stream",
     "text": [
      "<xarray.DataArray 'TCW' (time: 84, y: 1326, x: 1270)> Size: 1GB\n",
      "dask.array<where, shape=(84, 1326, 1270), dtype=int64, chunksize=(10, 250, 250), chunktype=numpy.ndarray>\n",
      "Coordinates:\n",
      "  * y            (y) float64 11kB -1.97e+06 -1.97e+06 ... -2.01e+06 -2.01e+06\n",
      "  * x            (x) float64 10kB 7.683e+05 7.683e+05 ... 8.064e+05 8.064e+05\n",
      "    spatial_ref  int32 4B 32636\n",
      "  * time         (time) datetime64[ns] 672B 2017-01-31 2017-02-28 ... 2023-12-31\n"
     ]
    }
   ],
   "source": [
    "print(tcw)"
   ]
  },
  {
   "cell_type": "code",
   "execution_count": 11,
   "id": "2fa4a70a-6d46-4d27-9525-2849ffcdeec1",
   "metadata": {},
   "outputs": [
    {
     "data": {
      "text/plain": [
       "<matplotlib.collections.QuadMesh at 0x7f133bf8e810>"
      ]
     },
     "execution_count": 11,
     "metadata": {},
     "output_type": "execute_result"
    },
    {
     "data": {
      "image/png": "[encoded data removed]",
      "text/plain": [
       "<Figure size 640x480 with 2 Axes>"
      ]
     },
     "metadata": {},
     "output_type": "display_data"
    }
   ],
   "source": [
    "tcw.isel(time=1).plot(cmap='Blues_r')  # Plot time step"
   ]
  },
  {
   "cell_type": "markdown",
   "id": "08498759-dde6-4b7f-bd3c-7285ad667dea",
   "metadata": {},
   "source": [
    "#### 2. WOfS "
   ]
  },
  {
   "cell_type": "code",
   "execution_count": null,
   "id": "e4dcba57-603e-4681-99b5-75b1092ff7ae",
   "metadata": {},
   "outputs": [],
   "source": [
    "dc_wofs = datacube.Datacube(app=\"Intro_WOfS\")"
   ]
  },
  {
   "cell_type": "code",
   "execution_count": null,
   "id": "a0fc5255-eff1-4d67-8fc2-cb5af63454b4",
   "metadata": {},
   "outputs": [],
   "source": [
    "#load the wofs features\n",
    "# Initialize lists to store datasets for each product\n",
    "ds_wofs_list = []\n",
    "\n",
    "# Load products for each year (one by one, each product separately)\n",
    "for year in years:\n",
    "    print(f\"Processing data for {year}...\")\n",
    "    \n",
    "    # Define query for this year\n",
    "    query = create_query(location, year)\n",
    "    \n",
    "    ds_wofsls = dc_wofs.load(\n",
    "        product=\"wofs_ls\",\n",
    "        like=ds_landsat,\n",
    "        fuse_func=wofs_fuser,\n",
    "        dask_chunks={}, #{'time':-1, 'x':250, 'y':250}\n",
    "        collection_category=\"T1\",\n",
    "    )\n",
    "    ds_wofs_list.append(ds_wofsls)  # Append WOfS data to the list\n",
    "\n",
    "# Concatenate along the 'time' dimension\n",
    "ds_wofls = xr.concat(ds_wofs_list, dim='time')\n",
    "\n",
    "# Sort by time just in case\n",
    "ds_wofls = ds_wofls.sortby('time')\n",
    "\n",
    "print(ds_wofls)\n"
   ]
  },
  {
   "cell_type": "code",
   "execution_count": null,
   "id": "d17c82fc-0517-48d8-985d-aa7a94b65ef5",
   "metadata": {},
   "outputs": [],
   "source": [
    "# maksing the wet and dry areas\n",
    "verbose= True\n",
    "resample_frequency= \"1M\"\n",
    "\n",
    "# boolean of wet/dry\n",
    "wofls_wet = masking.make_mask(ds_wofls.water, wet=True)\n",
    "\n",
    "if resample_frequency is not None:\n",
    "    if verbose:\n",
    "        print(\"Resampling WOfS to \" + resample_frequency)\n",
    "    wofls_wet = wofls_wet.resample(time=resample_frequency).max()\n",
    "\n",
    "# mask sure wofs matches other datasets\n",
    "wofls_wet = wofls_wet.where(wofls_wet.time == tcw.time)\n",
    "\n",
    "# apply the polygon mask\n",
    "wofls_wet = wofls_wet.where(mask)"
   ]
  },
  {
   "cell_type": "markdown",
   "id": "cb50a40b-722b-4aeb-b486-dd5e45540bc5",
   "metadata": {},
   "source": [
    "#### 3. Fractional Cover (FC)"
   ]
  },
  {
   "cell_type": "code",
   "execution_count": null,
   "id": "350916fc-e73b-48d9-9a85-a32748c3097b",
   "metadata": {},
   "outputs": [],
   "source": [
    "# load fractional cover\n",
    "    fc_ds = dc.load(\n",
    "        product=\"fc_ls\",\n",
    "        time=time,\n",
    "        dask_chunks=dask_chunks,\n",
    "        like=ds_ls,\n",
    "        measurements=[\"pv\", \"npv\", \"bs\"],\n",
    "        collection_category=\"T1\",\n",
    "    )"
   ]
  },
  {
   "cell_type": "markdown",
   "id": "66c8c548-57de-4803-af36-d5d6ae0e67dc",
   "metadata": {},
   "source": [
    "#### 4. Stacking and classifying land type"
   ]
  },
  {
   "cell_type": "code",
   "execution_count": null,
   "id": "70483cc1-f379-4001-af4e-938ec739fedb",
   "metadata": {},
   "outputs": [],
   "source": []
  },
  {
   "cell_type": "markdown",
   "id": "25b48776-959c-451d-b217-1b99179ec2e6",
   "metadata": {},
   "source": [
    "#### 5. compare statistics: water inundation vs malaria incidence rate"
   ]
  },
  {
   "cell_type": "code",
   "execution_count": null,
   "id": "1b7cc2e1-ef48-432a-b7f2-f6476b3d8c27",
   "metadata": {},
   "outputs": [],
   "source": []
  }
 ],
 "metadata": {
  "kernelspec": {
   "display_name": "Python 3 (ipykernel)",
   "language": "python",
   "name": "python3"
  },
  "language_info": {
   "codemirror_mode": {
    "name": "ipython",
    "version": 3
   },
   "file_extension": ".py",
   "mimetype": "text/x-python",
   "name": "python",
   "nbconvert_exporter": "python",
   "pygments_lexer": "ipython3",
   "version": "3.12.3"
  }
 },
 "nbformat": 4,
 "nbformat_minor": 5
}
