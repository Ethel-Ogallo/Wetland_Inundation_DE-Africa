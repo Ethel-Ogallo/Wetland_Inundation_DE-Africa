{
 "cells": [
  {
   "cell_type": "markdown",
   "id": "30ab3a64-d3af-47af-b198-05e51acc0e52",
   "metadata": {},
   "source": [
    "## Monitoring wetland changes and their impact of malaria transmisson in the Zambezi Delta, Mozambique"
   ]
  },
  {
   "cell_type": "code",
   "execution_count": null,
   "id": "83dee5ff-91ee-4d58-b7f8-1abb4ff20bb5",
   "metadata": {},
   "outputs": [],
   "source": []
  }
 ],
 "metadata": {
  "kernelspec": {
   "display_name": "Python 3 (ipykernel)",
   "language": "python",
   "name": "python3"
  },
  "language_info": {
   "codemirror_mode": {
    "name": "ipython",
    "version": 3
   },
   "file_extension": ".py",
   "mimetype": "text/x-python",
   "name": "python",
   "nbconvert_exporter": "python",
   "pygments_lexer": "ipython3",
   "version": "3.12.3"
  }
 },
 "nbformat": 4,
 "nbformat_minor": 5
}
