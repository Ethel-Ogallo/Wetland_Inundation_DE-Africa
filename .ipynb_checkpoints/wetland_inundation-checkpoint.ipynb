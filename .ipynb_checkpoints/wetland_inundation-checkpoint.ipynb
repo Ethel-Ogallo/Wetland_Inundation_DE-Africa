{
 "cells": [
  {
   "cell_type": "markdown",
   "id": "30ab3a64-d3af-47af-b198-05e51acc0e52",
   "metadata": {},
   "source": [
    "## Monitoring wetland changes and their impact of malaria transmisson in the Zambezi Delta, Mozambique"
   ]
  },
  {
   "cell_type": "code",
   "execution_count": 1,
   "id": "33a5d153-7052-41aa-8495-f88a718bb110",
   "metadata": {},
   "outputs": [],
   "source": [
    "import datacube\n",
    "\n",
    "from deafrica_tools.datahandling import load_ard\n",
    "from deafrica_tools.plotting import rgb"
   ]
  },
  {
   "cell_type": "markdown",
   "id": "e3ed65ea-3c8c-4cf5-8754-93932e78ecb6",
   "metadata": {},
   "source": [
    "#### connect to data cube "
   ]
  },
  {
   "cell_type": "code",
   "execution_count": null,
   "id": "48247b56-2d92-4c31-b992-d9a2be3dff1f",
   "metadata": {},
   "outputs": [],
   "source": [
    "dc = datacube.Datacube(app=\"Landsat_Surface_Reflectance\")"
   ]
  },
  {
   "cell_type": "markdown",
   "id": "e7d725bd-948f-4ab4-8a91-db7df24670d8",
   "metadata": {},
   "source": [
    "####  Study area\n",
    "The study area is Zambezi delta in Mozambique "
   ]
  },
  {
   "cell_type": "code",
   "execution_count": null,
   "id": "df9744ac-2458-4db6-b1e1-e3f865e67449",
   "metadata": {},
   "outputs": [],
   "source": []
  },
  {
   "cell_type": "markdown",
   "id": "abd8af9b-d09b-4b13-b83c-9cda10c8a913",
   "metadata": {},
   "source": [
    "#### 3. Landsat Surface Reflectance"
   ]
  },
  {
   "cell_type": "code",
   "execution_count": null,
   "id": "2483a9e3-c31c-48ae-bc30-7cb095fae227",
   "metadata": {},
   "outputs": [],
   "source": [
    "# load landsat 5,7,8 data\n",
    "ds = dc.load(product=[\"ls8_sr\", \"ls7_sr\", \"ls5_sr\"],\n",
    "             measurements=[\"red\", \"green\", \"blue\", \"nir\", \"swir_1\", \"swir_2\"],\n",
    "             output_crs='EPSG:6933',\n",
    "             y=(-34.31, -34.36),\n",
    "             x=(18.44, 18.50),\n",
    "             time=(\"2000-01\", \"2022-12\"),\n",
    "             resolution=(-30, 30),\n",
    "             group_by=\"solar_day\",\n",
    "             )\n",
    "\n",
    "print(ds)"
   ]
  },
  {
   "cell_type": "markdown",
   "id": "f5908dba-ea4d-43e3-9a1a-f40a9952ca3a",
   "metadata": {},
   "source": [
    "#### 4. WOfS"
   ]
  },
  {
   "cell_type": "markdown",
   "id": "26cf30c8-0eeb-44e9-9567-9a05d9fb9157",
   "metadata": {},
   "source": [
    "#### 5. Fractional Cover"
   ]
  },
  {
   "cell_type": "markdown",
   "id": "9ec40c55-8462-4c84-8cac-6584f472e5c6",
   "metadata": {},
   "source": [
    "#### 6. Wetland changes over time"
   ]
  },
  {
   "cell_type": "markdown",
   "id": "690c8d7b-caf5-4ecb-8ce1-6a36046b34a3",
   "metadata": {},
   "source": [
    "#### 7. Malaria incidence rate"
   ]
  },
  {
   "cell_type": "markdown",
   "id": "b91df297-4739-4f5e-b700-186453c9d135",
   "metadata": {},
   "source": [
    "#### 8 . Comparison of wetland change and malaria incidence"
   ]
  },
  {
   "cell_type": "code",
   "execution_count": null,
   "id": "edb2ebe5-e524-4040-b7d1-cb5df2142162",
   "metadata": {},
   "outputs": [],
   "source": []
  }
 ],
 "metadata": {
  "kernelspec": {
   "display_name": "Python 3 (ipykernel)",
   "language": "python",
   "name": "python3"
  },
  "language_info": {
   "codemirror_mode": {
    "name": "ipython",
    "version": 3
   },
   "file_extension": ".py",
   "mimetype": "text/x-python",
   "name": "python",
   "nbconvert_exporter": "python",
   "pygments_lexer": "ipython3",
   "version": "3.12.3"
  }
 },
 "nbformat": 4,
 "nbformat_minor": 5
}
