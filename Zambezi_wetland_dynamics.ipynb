{
 "cells": [
  {
   "cell_type": "markdown",
   "id": "e3fab147-72c5-446b-bccd-090446293b61",
   "metadata": {},
   "source": [
    "### Monitoring wetland dynamics and its impact on malaria in the Zambesi delta, Mozambique"
   ]
  },
  {
   "cell_type": "markdown",
   "id": "48b5ab8a-6744-4f36-bce2-54ce5c0eab94",
   "metadata": {},
   "source": [
    "#### Context\n",
    "What are wetlands?, why important?  \n",
    "Why monitor?  \n",
    "Relationship to malaria? Why it matters?  "
   ]
  },
  {
   "cell_type": "markdown",
   "id": "12fbb054-d883-4294-9dc7-9f27469c3a63",
   "metadata": {},
   "source": [
    "### Method Description\n",
    "1. Tassle Cap Wetnees (TCW) from surface reflectance\n",
    "2. Fractional Cover\n",
    "3. Masking using WOfS and TCW\n",
    "4. Stacking and classifying the dominant land type\n",
    "5. Comparison to malaria incidence rate "
   ]
  },
  {
   "cell_type": "markdown",
   "id": "6fd379d0-4115-4fe1-b1aa-aee1b52c85c0",
   "metadata": {},
   "source": [
    "#### 1. Tassle Cap Wetness(TCW) computaion from surface reflectance"
   ]
  },
  {
   "cell_type": "code",
   "execution_count": null,
   "id": "d35aa192-ddbf-4eab-a1dc-e3bcab2e4e28",
   "metadata": {},
   "outputs": [],
   "source": []
  },
  {
   "cell_type": "markdown",
   "id": "cb50a40b-722b-4aeb-b486-dd5e45540bc5",
   "metadata": {},
   "source": [
    "#### 2. Fractional Cover (FC)"
   ]
  },
  {
   "cell_type": "code",
   "execution_count": null,
   "id": "a0fc5255-eff1-4d67-8fc2-cb5af63454b4",
   "metadata": {},
   "outputs": [],
   "source": []
  },
  {
   "cell_type": "markdown",
   "id": "08498759-dde6-4b7f-bd3c-7285ad667dea",
   "metadata": {},
   "source": [
    "#### 3. Masking using WOfS and TCW"
   ]
  },
  {
   "cell_type": "code",
   "execution_count": null,
   "id": "350916fc-e73b-48d9-9a85-a32748c3097b",
   "metadata": {},
   "outputs": [],
   "source": []
  },
  {
   "cell_type": "markdown",
   "id": "66c8c548-57de-4803-af36-d5d6ae0e67dc",
   "metadata": {},
   "source": [
    "#### 4. Stacking and classifying land type"
   ]
  },
  {
   "cell_type": "code",
   "execution_count": null,
   "id": "70483cc1-f379-4001-af4e-938ec739fedb",
   "metadata": {},
   "outputs": [],
   "source": []
  },
  {
   "cell_type": "markdown",
   "id": "25b48776-959c-451d-b217-1b99179ec2e6",
   "metadata": {},
   "source": [
    "#### 5. compare statistics: water inundation vs malaria incidence rate"
   ]
  },
  {
   "cell_type": "code",
   "execution_count": null,
   "id": "1b7cc2e1-ef48-432a-b7f2-f6476b3d8c27",
   "metadata": {},
   "outputs": [],
   "source": []
  }
 ],
 "metadata": {
  "kernelspec": {
   "display_name": "Python 3 (ipykernel)",
   "language": "python",
   "name": "python3"
  },
  "language_info": {
   "codemirror_mode": {
    "name": "ipython",
    "version": 3
   },
   "file_extension": ".py",
   "mimetype": "text/x-python",
   "name": "python",
   "nbconvert_exporter": "python",
   "pygments_lexer": "ipython3",
   "version": "3.12.3"
  }
 },
 "nbformat": 4,
 "nbformat_minor": 5
}
