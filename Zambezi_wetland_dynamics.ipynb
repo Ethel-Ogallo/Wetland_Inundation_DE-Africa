{
 "cells": [
  {
   "cell_type": "markdown",
   "id": "e3fab147-72c5-446b-bccd-090446293b61",
   "metadata": {},
   "source": [
    "### Monitoring wetland dynamics and its impact on malaria in the Zambesi delta, Mozambique"
   ]
  },
  {
   "cell_type": "markdown",
   "id": "48b5ab8a-6744-4f36-bce2-54ce5c0eab94",
   "metadata": {},
   "source": [
    "#### Context\n",
    "What are wetlands?, why important?  \n",
    "Why monitor?  \n",
    "Relationship to malaria? Why it matters?  "
   ]
  },
  {
   "cell_type": "markdown",
   "id": "12fbb054-d883-4294-9dc7-9f27469c3a63",
   "metadata": {},
   "source": [
    "### Method Description\n",
    "1. Tasselled-Cap Wetnees (TCW) from surface reflectance\n",
    "2. Fractional Cover\n",
    "3. Masking using WOfS and TCW\n",
    "4. Stacking and classifying the dominant land type\n",
    "5. Comparison to malaria incidence rate "
   ]
  },
  {
   "cell_type": "markdown",
   "id": "6fd379d0-4115-4fe1-b1aa-aee1b52c85c0",
   "metadata": {},
   "source": [
    "#### 1. Tasseled-Cap Wetness(TCW) computaion from surface reflectance\n",
    "TCW is one of the Tasseled-Cap Transform (TCT) indices, which uses a linear combination of Landsat bands to detect moisture content in soil and vegetation. The equations vary by Landsat sensor:\n",
    "\n",
    "Landsat 5 & 7 (TM) Coefficients  \n",
    "TCW=0.1509B1+0.1973B2+0.3279B3+0.3406B4−0.7112B5−0.4572B7  \n",
    "Landsat 7 (ETM+) Coefficients  \n",
    "TCW=0.2626B1+0.2141B2+0.0926B3+0.0656B4−0.7629B5−0.5388B7  \n",
    "Landsat 8 & 9 (OLI) Coefficients  \n",
    "TCW=0.1511𝐵2+0.1973𝐵3+0.3283𝐵4+0.3407𝐵5−0.7117𝐵6−0.4559𝐵7  \n",
    "TCW=0.1511B2+0.1973B3+0.3283B4+0.3407B5−0.7117B6−0.4559B7  \n",
    "\n",
    "B1, B2, etc., are Landsat bands (Surface Reflectance)\n",
    "\n",
    "TCW is sensitive to water content in soil and vegetation\n",
    "\n",
    "Higher TCW means more moisture, lower TCW means drier surfaces"
   ]
  },
  {
   "cell_type": "code",
   "execution_count": null,
   "id": "d35aa192-ddbf-4eab-a1dc-e3bcab2e4e28",
   "metadata": {},
   "outputs": [],
   "source": [
    "import datacube\n",
    "import xarray as xr\n",
    "import numpy as np\n",
    "import matplotlib.pyplot as plt\n",
    "import geopandas as gpd\n",
    "import seaborn as sns\n",
    "\n",
    "from deafrica_tools.datahandling import load_ard, mostcommon_crs, wofs_fuser\n",
    "from deafrica_tools.plotting import rgb, display_map, plot_wofs\n",
    "from datacube.utils import masking, geometry\n",
    "from datacube.utils.geometry import CRS\n",
    "from deafrica_tools.bandindices import calculate_indices\n",
    "from deafrica_tools.classification import HiddenPrints\n",
    "from deafrica_tools.spatial import xr_rasterize\n"
   ]
  },
  {
   "cell_type": "code",
   "execution_count": null,
   "id": "b20a9705-dc1c-4f16-a7c0-5e137c76dd62",
   "metadata": {},
   "outputs": [],
   "source": [
    "#connect to datacube\n",
    "dc = datacube.Datacube(app=\"Landsat_Surface_Reflectance\")"
   ]
  },
  {
   "cell_type": "code",
   "execution_count": null,
   "id": "bddea90a-4aee-4824-897e-2e0af5f373fe",
   "metadata": {},
   "outputs": [],
   "source": [
    "# List Landsat products available in DE Africa\n",
    "dc_products = dc.list_products()\n",
    "display_columns = ['name', 'description']\n",
    "dc_products[dc_products.name.str.contains(\n",
    "    'sr').fillna(\n",
    "        False)][display_columns].set_index('name')"
   ]
  },
  {
   "cell_type": "code",
   "execution_count": null,
   "id": "c5d53341-72df-46e8-893a-b74efd718c4c",
   "metadata": {
    "scrolled": true
   },
   "outputs": [],
   "source": [
    "dc_measurements = dc.list_measurements()\n",
    "# Display available measurements for Landsat 8\n",
    "landsat_collections = [\"ls8_sr\"] \n",
    "for collection in landsat_collections:\n",
    "    collection in dc_measurements.index\n",
    "    print(f\"Measurements for {collection}:\")\n",
    "    display(dc_measurements.loc[collection])"
   ]
  },
  {
   "cell_type": "code",
   "execution_count": null,
   "id": "7cfe1ada-17f1-4019-8f82-cf1f4864bea0",
   "metadata": {
    "scrolled": true
   },
   "outputs": [],
   "source": [
    "# Bounding box for Mopeia in Zambezi delta Mozambique\n",
    "lat, lon = -17.97757, 35.7130\n",
    "buffer = 0.177\n",
    "\n",
    "# Add lat, lon, buffer together to get bounding box\n",
    "x = (lon - buffer, lon + buffer)\n",
    "y = (lat - buffer, lat + buffer)\n",
    "\n",
    "print(x, y)\n",
    "\n",
    "# View the location \n",
    "display_map(x=x, y=y)"
   ]
  },
  {
   "cell_type": "code",
   "execution_count": null,
   "id": "4e51d241-0022-4e9a-84b1-9fdac62af6bb",
   "metadata": {},
   "outputs": [],
   "source": [
    "from shapely.geometry import box\n",
    "\n",
    "# Create the bounding box geometry using Shapely's box\n",
    "bbox = box(x[0], y[0], x[1], y[1])\n",
    "\n",
    "# Create a GeoDataFrame with the bounding box geometry\n",
    "gdf = gpd.GeoDataFrame({'geometry': [bbox]}, crs=\"EPSG:32636\")\n",
    "\n",
    "# View the GeoDataFrame\n",
    "print(gdf.geometry)\n",
    "print(gdf.crs)\n",
    "\n",
    "# Convert GeoDataFrame to a Geometry object for the query\n",
    "geom = geometry.Geometry(geom=gdf.iloc[0].geometry, crs=gdf.crs)\n",
    "print(geom)"
   ]
  },
  {
   "cell_type": "code",
   "execution_count": null,
   "id": "4c5f7970-166c-447f-958d-b38c2f12b27b",
   "metadata": {},
   "outputs": [],
   "source": [
    "# Define the function to create a query\n",
    "def create_query(location, year):\n",
    "    return {\n",
    "        'geopolygon': location,  # location is the Geometry object\n",
    "        'time': (f\"{year}-01-01\", f\"{year}-12-31\"),  # Time range format (YYYY-MM-DD)\n",
    "    }\n",
    "\n",
    "# Define the years to query\n",
    "years = [2017, 2020, 2023]\n"
   ]
  },
  {
   "cell_type": "code",
   "execution_count": null,
   "id": "c7e38063-200b-4d9a-8743-d8b15911722f",
   "metadata": {
    "scrolled": true
   },
   "outputs": [],
   "source": [
    "# Load ARD Landsat data for the specified time range (2013-2022) every 3rd year\n",
    "# Initialize lists to store datasets for each product\n",
    "ds_landsat_list = []\n",
    "\n",
    "# Load products for each year (one by one, each product separately)\n",
    "for year in years:\n",
    "    print(f\"Processing data for {year}...\")\n",
    "    \n",
    "    # Define the query for the current year\n",
    "    query = create_query(geom, year)\n",
    "    \n",
    "    ds_landsat = load_ard(\n",
    "        dc=dc,\n",
    "        products=[\"ls8_sr\"], \n",
    "        output_crs=\"epsg:32636\",\n",
    "        min_gooddata=0.85,\n",
    "        mask_filters=([\"opening\", 3], [\"dilation\", 3]),\n",
    "        measurements=[\"red\", \"green\", \"blue\", \"nir\", \"swir_1\", \"swir_2\"],\n",
    "        dask_chunks={'time': -1, 'x': 250, 'y': 250},  # Adjust chunking as needed\n",
    "        group_by=\"solar_day\",\n",
    "        resolution=(-30, 30),\n",
    "        **query\n",
    "    )\n",
    "    \n",
    "    # Append the dataset to the list\n",
    "    ds_landsat_list.append(ds_landsat)\n",
    "\n",
    "# Concatenate along the 'time' dimension\n",
    "ds_ls = xr.concat(ds_landsat_list, dim='time')\n",
    "\n",
    "# Sort by time just in case\n",
    "ds_ls = ds_ls.sortby('time')\n",
    "\n",
    "print(ds_ls)\n"
   ]
  },
  {
   "cell_type": "code",
   "execution_count": null,
   "id": "5d804de7-a6d3-4b0d-9f11-e8d9d5165208",
   "metadata": {},
   "outputs": [],
   "source": [
    "# Visual sanity check\n",
    "first_timestep = ds_ls.swir_1.isel(time=1)\n",
    "\n",
    "print(first_timestep)\n",
    "first_timestep.plot(cmap='Blues_r')"
   ]
  },
  {
   "cell_type": "code",
   "execution_count": null,
   "id": "f175077b-d6a6-4bef-8da3-ea6d357ed5a2",
   "metadata": {},
   "outputs": [],
   "source": [
    "TCW_threshold = -0.035\n",
    "\n",
    "# 1. Rasterize the mask (optional but good if you have a shapefile AOI)\n",
    "mask = xr_rasterize(gdf.iloc[[0]], ds_ls)\n",
    "ds_ls = ds_ls.where(mask)\n",
    "\n",
    "# 2. Calculate TCW using DE Africa tools\n",
    "print(\"Calculating tasseled cap wetness index...\")\n",
    "\n",
    "with HiddenPrints():  # suppress prints from calculate_indices\n",
    "    tcw = calculate_indices(\n",
    "        ds_ls, \n",
    "        index=[\"TCW\"], \n",
    "        normalise=False, \n",
    "        satellite_mission=\"ls\", \n",
    "        drop=True\n",
    "    )\n",
    "\n",
    "# 3. Optional: Resample (e.g., monthly)\n",
    "if resample_frequency is not None:\n",
    "    print(\"Resampling TCW to\", resample_frequency)\n",
    "    tcw = tcw.resample(time=resample_frequency).max()\n",
    "\n",
    "# 4. Apply threshold to get binary wet/dry\n",
    "tcw = tcw.TCW >= TCW_threshold\n",
    "\n",
    "# 5. Mask non-AOI pixels again just in case\n",
    "tcw = tcw.where(mask, 0)\n",
    "\n",
    "# 6. Persist for efficient use later\n",
    "tcw = tcw.persist()\n"
   ]
  },
  {
   "cell_type": "code",
   "execution_count": null,
   "id": "96842155-bf7d-4258-8f70-ea53e11c8858",
   "metadata": {},
   "outputs": [],
   "source": [
    "#calculate tasseled cap wetness (TCW)\n",
    "def tasseled_cap_wetness(ds):\n",
    "    coefficients = {\n",
    "        'blue': 0.2630,\n",
    "        'green': 0.1456,\n",
    "        'red': 0.3379,\n",
    "        'nir': 0.4556,\n",
    "        'swir1': 0.6140,\n",
    "        'swir2': 0.1126\n",
    "    }\n",
    "    \n",
    "    wetness = (\n",
    "        ds['blue'] * coefficients['blue'] +\n",
    "        ds['green'] * coefficients['green'] +\n",
    "        ds['red'] * coefficients['red'] +\n",
    "        ds['nir'] * coefficients['nir'] +\n",
    "        ds['swir_1'] * coefficients['swir1'] +\n",
    "        ds['swir_2'] * coefficients['swir2']\n",
    "    )\n",
    "    \n",
    "    return wetness\n",
    "    \n",
    "tcw = tasseled_cap_wetness(ds_ls)\n",
    "print(tcw)"
   ]
  },
  {
   "cell_type": "code",
   "execution_count": null,
   "id": "2fa4a70a-6d46-4d27-9525-2849ffcdeec1",
   "metadata": {},
   "outputs": [],
   "source": [
    "tcw.isel(time=1).plot(cmap='Blues_r')  # Plot time step"
   ]
  },
  {
   "cell_type": "markdown",
   "id": "08498759-dde6-4b7f-bd3c-7285ad667dea",
   "metadata": {},
   "source": [
    "#### 2. WOfS "
   ]
  },
  {
   "cell_type": "code",
   "execution_count": null,
   "id": "e4dcba57-603e-4681-99b5-75b1092ff7ae",
   "metadata": {},
   "outputs": [],
   "source": [
    "dc_wofs = datacube.Datacube(app=\"Intro_WOfS\")"
   ]
  },
  {
   "cell_type": "code",
   "execution_count": null,
   "id": "a0fc5255-eff1-4d67-8fc2-cb5af63454b4",
   "metadata": {},
   "outputs": [],
   "source": [
    "#load the wofs features\n",
    "# Initialize lists to store datasets for each product\n",
    "ds_wofs_list = []\n",
    "\n",
    "# Load products for each year (one by one, each product separately)\n",
    "for year in years:\n",
    "    print(f\"Processing data for {year}...\")\n",
    "    \n",
    "    # Define query for this year\n",
    "    query = create_query(location, year)\n",
    "    \n",
    "    ds_wofsls = dc_wofs.load(\n",
    "        product=\"wofs_ls\",\n",
    "        like=ds_landsat,\n",
    "        fuse_func=wofs_fuser,\n",
    "        dask_chunks={}, #{'time':-1, 'x':250, 'y':250}\n",
    "        collection_category=\"T1\",\n",
    "    )\n",
    "    ds_wofs_list.append(ds_wofsls)  # Append WOfS data to the list\n",
    "\n",
    "# Concatenate along the 'time' dimension\n",
    "ds_wofls = xr.concat(ds_wofs_list, dim='time')\n",
    "\n",
    "# Sort by time just in case\n",
    "ds_wofls = ds_wofls.sortby('time')\n",
    "\n",
    "print(ds_wofls)\n"
   ]
  },
  {
   "cell_type": "code",
   "execution_count": null,
   "id": "d17c82fc-0517-48d8-985d-aa7a94b65ef5",
   "metadata": {},
   "outputs": [],
   "source": [
    "# maksing the wet and dry areas\n",
    "verbose= True\n",
    "resample_frequency= \"1M\"\n",
    "\n",
    "# boolean of wet/dry\n",
    "wofls_wet = masking.make_mask(ds_wofls.water, wet=True)\n",
    "\n",
    "if resample_frequency is not None:\n",
    "    if verbose:\n",
    "        print(\"Resampling WOfS to \" + resample_frequency)\n",
    "    wofls_wet = wofls_wet.resample(time=resample_frequency).max()\n",
    "\n",
    "# mask sure wofs matches other datasets\n",
    "wofls_wet = wofls_wet.where(wofls_wet.time == tcw.time)\n",
    "\n",
    "# apply the polygon mask\n",
    "wofls_wet = wofls_wet.where(mask)"
   ]
  },
  {
   "cell_type": "markdown",
   "id": "cb50a40b-722b-4aeb-b486-dd5e45540bc5",
   "metadata": {},
   "source": [
    "#### 3. Fractional Cover (FC)"
   ]
  },
  {
   "cell_type": "code",
   "execution_count": null,
   "id": "350916fc-e73b-48d9-9a85-a32748c3097b",
   "metadata": {},
   "outputs": [],
   "source": [
    "# load fractional cover\n",
    "    fc_ds = dc.load(\n",
    "        product=\"fc_ls\",\n",
    "        time=time,\n",
    "        dask_chunks=dask_chunks,\n",
    "        like=ds_ls,\n",
    "        measurements=[\"pv\", \"npv\", \"bs\"],\n",
    "        collection_category=\"T1\",\n",
    "    )"
   ]
  },
  {
   "cell_type": "markdown",
   "id": "66c8c548-57de-4803-af36-d5d6ae0e67dc",
   "metadata": {},
   "source": [
    "#### 4. Stacking and classifying land type"
   ]
  },
  {
   "cell_type": "code",
   "execution_count": null,
   "id": "70483cc1-f379-4001-af4e-938ec739fedb",
   "metadata": {},
   "outputs": [],
   "source": []
  },
  {
   "cell_type": "markdown",
   "id": "25b48776-959c-451d-b217-1b99179ec2e6",
   "metadata": {},
   "source": [
    "#### 5. compare statistics: water inundation vs malaria incidence rate"
   ]
  },
  {
   "cell_type": "code",
   "execution_count": null,
   "id": "1b7cc2e1-ef48-432a-b7f2-f6476b3d8c27",
   "metadata": {},
   "outputs": [],
   "source": []
  }
 ],
 "metadata": {
  "kernelspec": {
   "display_name": "Python 3 (ipykernel)",
   "language": "python",
   "name": "python3"
  },
  "language_info": {
   "codemirror_mode": {
    "name": "ipython",
    "version": 3
   },
   "file_extension": ".py",
   "mimetype": "text/x-python",
   "name": "python",
   "nbconvert_exporter": "python",
   "pygments_lexer": "ipython3",
   "version": "3.12.3"
  }
 },
 "nbformat": 4,
 "nbformat_minor": 5
}
