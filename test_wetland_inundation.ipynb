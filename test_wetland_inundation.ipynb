{
 "cells": [
  {
   "cell_type": "markdown",
   "id": "30ab3a64-d3af-47af-b198-05e51acc0e52",
   "metadata": {},
   "source": [
    "## Monitoring wetland changes and their impact of malaria transmisson in the Zambezi Delta, Mozambique"
   ]
  },
  {
   "cell_type": "code",
   "execution_count": null,
   "id": "83dee5ff-91ee-4d58-b7f8-1abb4ff20bb5",
   "metadata": {},
   "outputs": [],
   "source": [
    "%matplotlib inline\n",
    "\n",
    "import datacube\n",
    "import seaborn as sns\n",
    "import matplotlib.pyplot as plt\n",
    "from datacube.utils import masking\n",
    "from datacube.utils import geometry\n",
    "from datacube.utils.geometry import CRS\n",
    "\n",
    "from deafrica_tools.plotting import display_map, plot_wofs\n",
    "from deafrica_tools.datahandling import wofs_fuser, mostcommon_crs"
   ]
  },
  {
   "cell_type": "code",
   "execution_count": null,
   "id": "e63e5583-ad52-45d4-94d8-8307734bbd8c",
   "metadata": {
    "scrolled": true
   },
   "outputs": [],
   "source": [
    "# connect to the Digital Earth Africa data cube\n",
    "dc = datacube.Datacube(app=\"Intro_WOfS\")"
   ]
  },
  {
   "cell_type": "code",
   "execution_count": null,
   "id": "571a8bff-6714-4386-a334-a0f52ab7770b",
   "metadata": {},
   "outputs": [],
   "source": [
    "# check and list all the WOfS products available in Digital Earth Africa\n",
    "products = dc.list_products()\n",
    "display_columns = ['name', 'description']\n",
    "dc_products = products[display_columns]\n",
    "dc_products[dc_products['name'].str.contains(\"wofs_ls\")]"
   ]
  },
  {
   "cell_type": "code",
   "execution_count": null,
   "id": "2f05440e-781a-4458-8f60-a0509e9e567e",
   "metadata": {},
   "outputs": [],
   "source": [
    "# Application parameters: location and time range \n",
    "# Location = Mopeia region within the Zambezi Delta in Mozambique\n",
    "# Time range between 2000 and 2022 \n",
    "\n",
    "lat, lon =  -17.9782, 35.7136\n",
    "buffer = 0.245 # 30km buffer\n",
    "time_range = ('2000', '2022')\n",
    "\n",
    "#add lat,lon,buffer together to get bounding box\n",
    "x = (lon-buffer, lon+buffer)\n",
    "y =  (lat+buffer, lat-buffer)"
   ]
  },
  {
   "cell_type": "code",
   "execution_count": null,
   "id": "cd11fbaf-d3ad-4453-9606-f3d536c2ac5d",
   "metadata": {
    "scrolled": true
   },
   "outputs": [],
   "source": [
    "# View the location \n",
    "display_map(x=x, y=y)"
   ]
  },
  {
   "cell_type": "code",
   "execution_count": null,
   "id": "73cdfc7d-8f28-487d-8e62-4f9368ba15c5",
   "metadata": {},
   "outputs": [],
   "source": [
    "# Load WOfS layer\n",
    "# Create a reusable query\n",
    "query = {\n",
    "    'x': x,\n",
    "    'y': y,\n",
    "    'time': (\"2010\"),\n",
    "    'resolution': (-30, 30)\n",
    "}\n",
    "\n",
    "#get crs of location\n",
    "output_crs = mostcommon_crs(dc=dc, product='wofs_ls', query=query)\n",
    "\n",
    "# Load WOfS feature layers \n",
    "wofls= dc.load(product = 'wofs_ls',\n",
    "               group_by=\"solar_day\",\n",
    "               fuse_func=wofs_fuser,\n",
    "               output_crs = output_crs,\n",
    "               collection_category=\"T1\",\n",
    "               **query)\n",
    "print(wofls)"
   ]
  },
  {
   "cell_type": "code",
   "execution_count": null,
   "id": "f4dd2181-1e43-4c72-9a00-10e68f8896e6",
   "metadata": {
    "scrolled": true
   },
   "outputs": [],
   "source": [
    "# Classify different types of data in the area of interest\n",
    "plot_wofs(wofls.water, col='time', size=4, col_wrap=4);"
   ]
  },
  {
   "cell_type": "code",
   "execution_count": null,
   "id": "dff7ec7c-944e-456a-93e2-d443a31482a1",
   "metadata": {
    "scrolled": true
   },
   "outputs": [],
   "source": [
    "# Keeping only dry, non-cloudy pixels\n",
    "wofls_wet = masking.make_mask(wofls, wet=True)\n",
    "\n",
    "# Plot output mask\n",
    "wofls_wet.water.plot(col='time', size=4, col_wrap=4);"
   ]
  },
  {
   "cell_type": "code",
   "execution_count": null,
   "id": "63bf93a9-5472-4360-97a1-35ddace2a47d",
   "metadata": {},
   "outputs": [],
   "source": [
    "# load WOfS all time summary \n",
    "wofs_alltime = dc.load(product='wofs_ls_summary_alltime',\n",
    "               like=wofls.geobox)\n",
    "\n",
    "print(wofs_alltime)\n",
    "\n",
    "# plot the all time summary map\n",
    "fig, ax = plt.subplots()\n",
    "im = wofs_alltime.frequency.plot(ax=ax, cmap=\"mako_r\", add_colorbar=False)\n",
    "# Add colorbar with label\n",
    "cbar = plt.colorbar(im, ax=ax, orientation='vertical', fraction=0.03, pad=0.02)\n",
    "cbar.set_label('Frequency')\n",
    "# Add title and axis labels\n",
    "ax.set_title('WOfS All-Time Water Frequency (1985 - Present)', fontsize=12, fontweight='bold')\n",
    "ax.set_xlabel('Longitude')\n",
    "ax.set_ylabel('Latitude')\n",
    "\n",
    "plt.show()"
   ]
  },
  {
   "cell_type": "code",
   "execution_count": null,
   "id": "1844fe46-6573-4d2e-86c8-3380625e4aa3",
   "metadata": {},
   "outputs": [],
   "source": [
    "# loading WOfS annual summary\n",
    "wofs_annual = dc.load(product='wofs_ls_summary_annual',\n",
    "               like=wofls.geobox,\n",
    "               time='2001')\n",
    "\n",
    "print(wofs_annual)"
   ]
  },
  {
   "cell_type": "code",
   "execution_count": null,
   "id": "084976df-4597-4f69-9431-1ec32eb3e2d1",
   "metadata": {},
   "outputs": [],
   "source": [
    "wofs_annual.frequency.plot(size=4, cmap=sns.color_palette(\"mako_r\", as_cmap=True))\n",
    "plt.title('WOfS Annual Summary for 2000');"
   ]
  },
  {
   "cell_type": "code",
   "execution_count": null,
   "id": "95a7431f-6807-4f2e-b26a-9a94991934cf",
   "metadata": {},
   "outputs": [],
   "source": [
    "# plot all the maps for the time range\n",
    "def plot_wofs_annual_all(dc, wofls):\n",
    "    years = range(2000, 2022)\n",
    "    fig, axes = plt.subplots(nrows=4, ncols=6, figsize=(18, 12))  \n",
    "    axes = axes.flatten()\n",
    "\n",
    "    for i, year in enumerate(years):\n",
    "        wofs_annual = dc.load(product='wofs_ls_summary_annual', like=wofls.geobox, time=str(year))\n",
    "        im = wofs_annual.frequency.plot(ax=axes[i], cmap=sns.color_palette(\"mako_r\", as_cmap=True))\n",
    "        axes[i].set_title(f'WOfS Annual Summary {year}', fontsize=10)\n",
    "        axes[i].set_ylabel('Latitude')\n",
    "        axes[i].set_xlabel('Longitude')\n",
    "        \n",
    "    # Remove extra subplots\n",
    "    for ax in axes[len(years):]: ax.remove()\n",
    "        \n",
    "    plt.tight_layout()\n",
    "    plt.show()\n",
    "\n",
    "plot_wofs_annual_all(dc, wofls)"
   ]
  },
  {
   "cell_type": "code",
   "execution_count": null,
   "id": "9a6e8f6f-eae7-4847-ace4-62de38a9f3f1",
   "metadata": {},
   "outputs": [],
   "source": []
  }
 ],
 "metadata": {
  "kernelspec": {
   "display_name": "Python 3 (ipykernel)",
   "language": "python",
   "name": "python3"
  },
  "language_info": {
   "codemirror_mode": {
    "name": "ipython",
    "version": 3
   },
   "file_extension": ".py",
   "mimetype": "text/x-python",
   "name": "python",
   "nbconvert_exporter": "python",
   "pygments_lexer": "ipython3",
   "version": "3.12.3"
  }
 },
 "nbformat": 4,
 "nbformat_minor": 5
}
